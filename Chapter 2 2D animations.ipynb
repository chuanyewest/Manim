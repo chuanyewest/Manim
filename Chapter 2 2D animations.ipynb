{
  "cells": [
    {
      "cell_type": "markdown",
      "metadata": {
        "id": "view-in-github",
        "colab_type": "text"
      },
      "source": [
        "<a href=\"https://colab.research.google.com/github/chuanyewest/Manim/blob/main/Chapter%202%202D%20animations.ipynb\" target=\"_parent\"><img src=\"https://colab.research.google.com/assets/colab-badge.svg\" alt=\"Open In Colab\"/></a>"
      ]
    },
    {
      "cell_type": "markdown",
      "metadata": {
        "id": "iR3fLHMEGiGa"
      },
      "source": [
        "# Chapter 2: 2D animations"
      ]
    },
    {
      "cell_type": "markdown",
      "metadata": {
        "id": "2xMa8Zh4GiGh"
      },
      "source": [
        "## 2.1 Moving Objects and `lambda`\n",
        "\n",
        "Creating multiple 2D animations may be Manim's greatest strength. It is where Manim can perform huge amount of effects, without being too time consuming. As usual, we should start by downloading the library."
      ]
    },
    {
      "cell_type": "code",
      "source": [
        "!pip install numpy==1.23.5 #restart the runtime afterward"
      ],
      "metadata": {
        "id": "flc4Ae7f8_4_",
        "outputId": "9f063dbb-2ab9-4ffb-8cfb-01b0677812b2",
        "colab": {
          "base_uri": "https://localhost:8080/",
          "height": 572
        }
      },
      "execution_count": null,
      "outputs": [
        {
          "output_type": "stream",
          "name": "stdout",
          "text": [
            "Collecting numpy==1.23.5\n",
            "  Downloading numpy-1.23.5-cp311-cp311-manylinux_2_17_x86_64.manylinux2014_x86_64.whl.metadata (2.3 kB)\n",
            "Downloading numpy-1.23.5-cp311-cp311-manylinux_2_17_x86_64.manylinux2014_x86_64.whl (17.1 MB)\n",
            "\u001b[2K   \u001b[90m━━━━━━━━━━━━━━━━━━━━━━━━━━━━━━━━━━━━━━━━\u001b[0m \u001b[32m17.1/17.1 MB\u001b[0m \u001b[31m24.6 MB/s\u001b[0m eta \u001b[36m0:00:00\u001b[0m\n",
            "\u001b[?25hInstalling collected packages: numpy\n",
            "  Attempting uninstall: numpy\n",
            "    Found existing installation: numpy 2.0.2\n",
            "    Uninstalling numpy-2.0.2:\n",
            "      Successfully uninstalled numpy-2.0.2\n",
            "\u001b[31mERROR: pip's dependency resolver does not currently take into account all the packages that are installed. This behaviour is the source of the following dependency conflicts.\n",
            "chex 0.1.89 requires numpy>=1.24.1, but you have numpy 1.23.5 which is incompatible.\n",
            "pymc 5.21.2 requires numpy>=1.25.0, but you have numpy 1.23.5 which is incompatible.\n",
            "scikit-image 0.25.2 requires numpy>=1.24, but you have numpy 1.23.5 which is incompatible.\n",
            "jaxlib 0.5.1 requires numpy>=1.25, but you have numpy 1.23.5 which is incompatible.\n",
            "xarray 2025.1.2 requires numpy>=1.24, but you have numpy 1.23.5 which is incompatible.\n",
            "bigframes 1.42.0 requires numpy>=1.24.0, but you have numpy 1.23.5 which is incompatible.\n",
            "blosc2 3.2.1 requires numpy>=1.26, but you have numpy 1.23.5 which is incompatible.\n",
            "albumentations 2.0.5 requires numpy>=1.24.4, but you have numpy 1.23.5 which is incompatible.\n",
            "treescope 0.1.9 requires numpy>=1.25.2, but you have numpy 1.23.5 which is incompatible.\n",
            "jax 0.5.2 requires numpy>=1.25, but you have numpy 1.23.5 which is incompatible.\n",
            "albucore 0.0.23 requires numpy>=1.24.4, but you have numpy 1.23.5 which is incompatible.\n",
            "imbalanced-learn 0.13.0 requires numpy<3,>=1.24.3, but you have numpy 1.23.5 which is incompatible.\n",
            "tensorflow 2.18.0 requires numpy<2.1.0,>=1.26.0, but you have numpy 1.23.5 which is incompatible.\u001b[0m\u001b[31m\n",
            "\u001b[0mSuccessfully installed numpy-1.23.5\n"
          ]
        },
        {
          "output_type": "display_data",
          "data": {
            "application/vnd.colab-display-data+json": {
              "pip_warning": {
                "packages": [
                  "numpy"
                ]
              },
              "id": "4160f1fdd18545689502e74c4fcc058a"
            }
          },
          "metadata": {}
        }
      ]
    },
    {
      "cell_type": "code",
      "source": [
        "%%capture\n",
        "!apt-get update\n",
        "!apt-get install -y build-essential libpango1.0-dev libcairo2-dev libffi-dev pkg-config texlive texlive-latex-extra texlive-fonts-extra ffmpeg\n",
        "!pip install manim"
      ],
      "metadata": {
        "id": "Q2eFdKpj3Sbr"
      },
      "execution_count": null,
      "outputs": []
    },
    {
      "cell_type": "code",
      "execution_count": null,
      "metadata": {
        "id": "Ww6YU-8OGiGj"
      },
      "outputs": [],
      "source": [
        "from manim import*\n",
        "config.media_width = \"75%\"\n",
        "config.verbosity = \"WARNING\""
      ]
    },
    {
      "cell_type": "markdown",
      "metadata": {
        "id": "h_eCvdeAGiGl"
      },
      "source": [
        "The process is similar to text animations: we need to first define the objects we want to add to the scene, then draw them to the 2D scene, and possibly transform them. Let us start with a simple example."
      ]
    },
    {
      "cell_type": "code",
      "execution_count": null,
      "metadata": {
        "id": "NBhbzvaHGiGm",
        "outputId": "6594d544-2434-4f4b-824d-c909abc5f188",
        "colab": {
          "base_uri": "https://localhost:8080/",
          "height": 588
        }
      },
      "outputs": [
        {
          "output_type": "display_data",
          "data": {
            "text/plain": [
              "Manim Community \u001b[32mv0.\u001b[0m\u001b[32m19.0\u001b[0m\n",
              "\n"
            ],
            "text/html": [
              "<pre style=\"white-space:pre;overflow-x:auto;line-height:normal;font-family:Menlo,'DejaVu Sans Mono',consolas,'Courier New',monospace\">Manim Community <span style=\"color: #008000; text-decoration-color: #008000\">v0.19.0</span>\n",
              "\n",
              "</pre>\n"
            ]
          },
          "metadata": {}
        },
        {
          "output_type": "stream",
          "name": "stderr",
          "text": []
        },
        {
          "output_type": "display_data",
          "data": {
            "text/plain": [
              "\u001b[2;36m[04/10/25 04:09:48]\u001b[0m\u001b[2;36m \u001b[0m\u001b[32mINFO    \u001b[0m Animation \u001b[32m0\u001b[0m : Partial movie file written in                   \u001b]8;id=87660;file:///usr/local/lib/python3.11/dist-packages/manim/scene/scene_file_writer.py\u001b\\\u001b[2mscene_file_writer.py\u001b[0m\u001b]8;;\u001b\\\u001b[2m:\u001b[0m\u001b]8;id=475738;file:///usr/local/lib/python3.11/dist-packages/manim/scene/scene_file_writer.py#588\u001b\\\u001b[2m588\u001b[0m\u001b]8;;\u001b\\\n",
              "\u001b[2;36m                    \u001b[0m         \u001b[32m'/content/media/videos/content/720p30/partial_movie_files/Use\u001b[0m \u001b[2m                        \u001b[0m\n",
              "\u001b[2;36m                    \u001b[0m         \u001b[32mRotate/2016333726_1271317603_2023860264.mp4'\u001b[0m                  \u001b[2m                        \u001b[0m\n"
            ],
            "text/html": [
              "<pre style=\"white-space:pre;overflow-x:auto;line-height:normal;font-family:Menlo,'DejaVu Sans Mono',consolas,'Courier New',monospace\"><span style=\"color: #7fbfbf; text-decoration-color: #7fbfbf\">[04/10/25 04:09:48] </span><span style=\"color: #008000; text-decoration-color: #008000\">INFO    </span> Animation <span style=\"color: #008000; text-decoration-color: #008000\">0</span> : Partial movie file written in                   <a href=\"file:///usr/local/lib/python3.11/dist-packages/manim/scene/scene_file_writer.py\" target=\"_blank\"><span style=\"color: #7f7f7f; text-decoration-color: #7f7f7f\">scene_file_writer.py</span></a><span style=\"color: #7f7f7f; text-decoration-color: #7f7f7f\">:</span><a href=\"file:///usr/local/lib/python3.11/dist-packages/manim/scene/scene_file_writer.py#588\" target=\"_blank\"><span style=\"color: #7f7f7f; text-decoration-color: #7f7f7f\">588</span></a>\n",
              "<span style=\"color: #7fbfbf; text-decoration-color: #7fbfbf\">                    </span>         <span style=\"color: #008000; text-decoration-color: #008000\">'/content/media/videos/content/720p30/partial_movie_files/Use</span> <span style=\"color: #7f7f7f; text-decoration-color: #7f7f7f\">                        </span>\n",
              "<span style=\"color: #7fbfbf; text-decoration-color: #7fbfbf\">                    </span>         <span style=\"color: #008000; text-decoration-color: #008000\">Rotate/2016333726_1271317603_2023860264.mp4'</span>                  <span style=\"color: #7f7f7f; text-decoration-color: #7f7f7f\">                        </span>\n",
              "</pre>\n"
            ]
          },
          "metadata": {}
        },
        {
          "output_type": "display_data",
          "data": {
            "text/plain": [
              "\u001b[2;36m                   \u001b[0m\u001b[2;36m \u001b[0m\u001b[32mINFO    \u001b[0m Combining to Movie file.                                      \u001b]8;id=842110;file:///usr/local/lib/python3.11/dist-packages/manim/scene/scene_file_writer.py\u001b\\\u001b[2mscene_file_writer.py\u001b[0m\u001b]8;;\u001b\\\u001b[2m:\u001b[0m\u001b]8;id=499734;file:///usr/local/lib/python3.11/dist-packages/manim/scene/scene_file_writer.py#739\u001b\\\u001b[2m739\u001b[0m\u001b]8;;\u001b\\\n"
            ],
            "text/html": [
              "<pre style=\"white-space:pre;overflow-x:auto;line-height:normal;font-family:Menlo,'DejaVu Sans Mono',consolas,'Courier New',monospace\"><span style=\"color: #7fbfbf; text-decoration-color: #7fbfbf\">                    </span><span style=\"color: #008000; text-decoration-color: #008000\">INFO    </span> Combining to Movie file.                                      <a href=\"file:///usr/local/lib/python3.11/dist-packages/manim/scene/scene_file_writer.py\" target=\"_blank\"><span style=\"color: #7f7f7f; text-decoration-color: #7f7f7f\">scene_file_writer.py</span></a><span style=\"color: #7f7f7f; text-decoration-color: #7f7f7f\">:</span><a href=\"file:///usr/local/lib/python3.11/dist-packages/manim/scene/scene_file_writer.py#739\" target=\"_blank\"><span style=\"color: #7f7f7f; text-decoration-color: #7f7f7f\">739</span></a>\n",
              "</pre>\n"
            ]
          },
          "metadata": {}
        },
        {
          "output_type": "display_data",
          "data": {
            "text/plain": [
              "\u001b[2;36m                   \u001b[0m\u001b[2;36m \u001b[0m\u001b[32mINFO    \u001b[0m                                                               \u001b]8;id=510384;file:///usr/local/lib/python3.11/dist-packages/manim/scene/scene_file_writer.py\u001b\\\u001b[2mscene_file_writer.py\u001b[0m\u001b]8;;\u001b\\\u001b[2m:\u001b[0m\u001b]8;id=978219;file:///usr/local/lib/python3.11/dist-packages/manim/scene/scene_file_writer.py#886\u001b\\\u001b[2m886\u001b[0m\u001b]8;;\u001b\\\n",
              "\u001b[2;36m                    \u001b[0m         \u001b[1;33mFile\u001b[0m ready at                                                 \u001b[2m                        \u001b[0m\n",
              "\u001b[2;36m                    \u001b[0m         \u001b[32m'/content/media/videos/content/720p30/UseRotate.mp4'\u001b[0m          \u001b[2m                        \u001b[0m\n",
              "\u001b[2;36m                    \u001b[0m                                                                       \u001b[2m                        \u001b[0m\n"
            ],
            "text/html": [
              "<pre style=\"white-space:pre;overflow-x:auto;line-height:normal;font-family:Menlo,'DejaVu Sans Mono',consolas,'Courier New',monospace\"><span style=\"color: #7fbfbf; text-decoration-color: #7fbfbf\">                    </span><span style=\"color: #008000; text-decoration-color: #008000\">INFO    </span>                                                               <a href=\"file:///usr/local/lib/python3.11/dist-packages/manim/scene/scene_file_writer.py\" target=\"_blank\"><span style=\"color: #7f7f7f; text-decoration-color: #7f7f7f\">scene_file_writer.py</span></a><span style=\"color: #7f7f7f; text-decoration-color: #7f7f7f\">:</span><a href=\"file:///usr/local/lib/python3.11/dist-packages/manim/scene/scene_file_writer.py#886\" target=\"_blank\"><span style=\"color: #7f7f7f; text-decoration-color: #7f7f7f\">886</span></a>\n",
              "<span style=\"color: #7fbfbf; text-decoration-color: #7fbfbf\">                    </span>         <span style=\"color: #808000; text-decoration-color: #808000; font-weight: bold\">File</span> ready at                                                 <span style=\"color: #7f7f7f; text-decoration-color: #7f7f7f\">                        </span>\n",
              "<span style=\"color: #7fbfbf; text-decoration-color: #7fbfbf\">                    </span>         <span style=\"color: #008000; text-decoration-color: #008000\">'/content/media/videos/content/720p30/UseRotate.mp4'</span>          <span style=\"color: #7f7f7f; text-decoration-color: #7f7f7f\">                        </span>\n",
              "<span style=\"color: #7fbfbf; text-decoration-color: #7fbfbf\">                    </span>                                                                       <span style=\"color: #7f7f7f; text-decoration-color: #7f7f7f\">                        </span>\n",
              "</pre>\n"
            ]
          },
          "metadata": {}
        },
        {
          "output_type": "display_data",
          "data": {
            "text/plain": [
              "\u001b[2;36m                   \u001b[0m\u001b[2;36m \u001b[0m\u001b[32mINFO    \u001b[0m \u001b[1;33mRendered\u001b[0m UseRotate                                                        \u001b]8;id=141841;file:///usr/local/lib/python3.11/dist-packages/manim/scene/scene.py\u001b\\\u001b[2mscene.py\u001b[0m\u001b]8;;\u001b\\\u001b[2m:\u001b[0m\u001b]8;id=311099;file:///usr/local/lib/python3.11/dist-packages/manim/scene/scene.py#255\u001b\\\u001b[2m255\u001b[0m\u001b]8;;\u001b\\\n",
              "\u001b[2;36m                    \u001b[0m         \u001b[1;33mPlayed\u001b[0m \u001b[32m1\u001b[0m \u001b[1;33manimations\u001b[0m                                                       \u001b[2m            \u001b[0m\n"
            ],
            "text/html": [
              "<pre style=\"white-space:pre;overflow-x:auto;line-height:normal;font-family:Menlo,'DejaVu Sans Mono',consolas,'Courier New',monospace\"><span style=\"color: #7fbfbf; text-decoration-color: #7fbfbf\">                    </span><span style=\"color: #008000; text-decoration-color: #008000\">INFO    </span> <span style=\"color: #808000; text-decoration-color: #808000; font-weight: bold\">Rendered</span> UseRotate                                                        <a href=\"file:///usr/local/lib/python3.11/dist-packages/manim/scene/scene.py\" target=\"_blank\"><span style=\"color: #7f7f7f; text-decoration-color: #7f7f7f\">scene.py</span></a><span style=\"color: #7f7f7f; text-decoration-color: #7f7f7f\">:</span><a href=\"file:///usr/local/lib/python3.11/dist-packages/manim/scene/scene.py#255\" target=\"_blank\"><span style=\"color: #7f7f7f; text-decoration-color: #7f7f7f\">255</span></a>\n",
              "<span style=\"color: #7fbfbf; text-decoration-color: #7fbfbf\">                    </span>         <span style=\"color: #808000; text-decoration-color: #808000; font-weight: bold\">Played</span> <span style=\"color: #008000; text-decoration-color: #008000\">1</span> <span style=\"color: #808000; text-decoration-color: #808000; font-weight: bold\">animations</span>                                                       <span style=\"color: #7f7f7f; text-decoration-color: #7f7f7f\">            </span>\n",
              "</pre>\n"
            ]
          },
          "metadata": {}
        },
        {
          "output_type": "display_data",
          "data": {
            "text/plain": [
              "<IPython.core.display.Video object>"
            ],
            "text/html": [
              "<video controls autoplay loop style=\"max-width: 60%;\"  >\n",
              " <source src=\"data:video/mp4;base64,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\" type=\"video/mp4\">\n",
              " Your browser does not support the video tag.\n",
              " </video>"
            ]
          },
          "metadata": {}
        }
      ],
      "source": [
        "%%manim -qm UseRotate\n",
        "\n",
        "class UseRotate(Scene):\n",
        "    def construct(self):\n",
        "        square1 = Square(side_length=0.5).shift(UP * 2)\n",
        "        square2 = Square(side_length=0.5)\n",
        "        gr = VGroup(square1, square2)\n",
        "\n",
        "        self.play(\n",
        "            Rotate(\n",
        "                gr,\n",
        "                angle=2*PI,\n",
        "                about_point=ORIGIN,\n",
        "                rate_func=linear,\n",
        "            ),\n",
        "            )"
      ]
    },
    {
      "cell_type": "markdown",
      "metadata": {
        "id": "TRJ9kn1pGiGm"
      },
      "source": [
        "Here we defined two tiny `Square` objects, then we grouped them together to a `VGroup` (we learnt this in chp1), finally we used the `Rotate` method to rotate them with respect to the center of the scene.\n",
        "\n",
        "Note that the `rate_func` argument can be changed to control the speed of rotation with run time. For instance, we can make the Mobjects rotating faster and faster by changing the `rate_func` to a quadratic function. In python, we often define a function using `lambda`, which is used in the following form.\n",
        "```py\n",
        "function_name = lambda argument: expression on the argument\n",
        "```\n",
        "As an example,\n",
        "```py\n",
        "func1 = lambda x: x**2 + 2*x + 1\n",
        "```\n",
        "which defines a quadratic function, $x^2 + 2x + 1$, another example is,\n",
        "```py\n",
        "func2 = lambda y,z: y**2 + z**2\n",
        "```\n",
        "which defines a multivariable function, $y^2 + z^2$. Note that we will not use more than one variables in this section since we are talking about 2D animations.\n",
        "\n",
        "Now we can change the `rate_func` argument to a quadratic function."
      ]
    },
    {
      "cell_type": "code",
      "execution_count": null,
      "metadata": {
        "id": "mzQoL0zWGiGn"
      },
      "outputs": [],
      "source": [
        "%%manim -qm UseRotate\n",
        "\n",
        "class UseRotate(Scene):\n",
        "    def construct(self):\n",
        "        square1 = Square(side_length=0.5).shift(UP * 2)\n",
        "        square2 = Square(side_length=0.5)\n",
        "        gr = VGroup(square1, square2)\n",
        "        self.play(\n",
        "            Rotate(\n",
        "                gr,\n",
        "                angle = 6*PI,\n",
        "                about_point = ORIGIN,\n",
        "                rate_func = lambda t: t**2,\n",
        "                run_time = 3\n",
        "            ),\n",
        "            )"
      ]
    },
    {
      "cell_type": "markdown",
      "metadata": {
        "id": "lEZIG_hsGiGo"
      },
      "source": [
        "Another frequently used animation is translating the Mobjects using the `animate.shift` method. It include one argument, that is to indicate the units of direction that you want to move. For instance, LEFT*2 + UP represents moving the Mobject STRAIGHT to the new position which is one unit left and two units upper from the original position (NOT first moving left then moving upwards!). Here is an example of translating the mobjects."
      ]
    },
    {
      "cell_type": "code",
      "execution_count": null,
      "metadata": {
        "id": "7Gph3pCbGiGp"
      },
      "outputs": [],
      "source": [
        "%%manim -qm Translating\n",
        "\n",
        "class Translating(Scene):\n",
        "    def construct(self):\n",
        "        circle1 = Circle(radius=0.5)\n",
        "        circle2 = Circle(radius=0.5)\n",
        "        circle3 = Circle(radius=0.5)\n",
        "\n",
        "        self.play(\n",
        "            Create(circle1),\n",
        "            Create(circle2),\n",
        "            Create(circle3)\n",
        "        )\n",
        "        self.wait()\n",
        "\n",
        "        self.play(\n",
        "            circle2.animate.shift(UP*2+RIGHT*2),\n",
        "            circle3.animate.shift(DOWN*2+LEFT*2)\n",
        "            )\n",
        "        self.wait()"
      ]
    },
    {
      "cell_type": "markdown",
      "metadata": {
        "id": "rkTtfJVaGiGp"
      },
      "source": [
        "The `Rotate` and `animate.shift` methods are extremely useful, especially when making animations about `vectors`, since rotation and translation carry important meanings in vector spaces. However, if we would like to make animations about vectors, we have to make it under a different `Scene` type."
      ]
    },
    {
      "cell_type": "markdown",
      "metadata": {
        "id": "lPAtMmuvGiGq"
      },
      "source": [
        "## 2.2 VectorScene\n",
        "\n",
        "The example above is a normal case of producing a 2D animation. Some specific mathematical objects require special operations, and we should perform their animations under a specific `Scene` type. `VectorScene` is an example.\n",
        "\n",
        "### 2.2.1 Coordinate Plane\n",
        "When we are dealing with vectors, we usually want to have a coordinate plane as a reference frame. Therefore, our first step is to add coordinates to the scene."
      ]
    },
    {
      "cell_type": "code",
      "execution_count": null,
      "metadata": {
        "id": "K2BWtqQIGiGq"
      },
      "outputs": [],
      "source": [
        "%%manim -qm Vectors\n",
        "\n",
        "class Vectors(VectorScene):\n",
        "    def construct(self):\n",
        "        self.add_plane(animate = True).add_coordinates()\n",
        "        self.wait()"
      ]
    },
    {
      "cell_type": "markdown",
      "metadata": {
        "id": "8ZSWaDNjGiGr"
      },
      "source": [
        "Here we used `add_plane` method to add the blocks to the background, and `add_coordinates` add the coordinate system to the scene. You can try to delete the `add_coordinates` method to see what happens.\n",
        "\n",
        "Now, with such coordinate plane, we can define vectors be indicating their coordinates.\n",
        "### 2.2.2 Defining and Drawing Vectors"
      ]
    },
    {
      "cell_type": "code",
      "execution_count": null,
      "metadata": {
        "id": "3EdjrXdgGiGr"
      },
      "outputs": [],
      "source": [
        "%%manim -qm Vectors\n",
        "\n",
        "class Vectors(VectorScene):\n",
        "    def construct(self):\n",
        "        self.add_plane(animate = True).add_coordinates()\n",
        "        self.wait()\n",
        "\n",
        "        v1 = Vector([1, 2], color=YELLOW)\n",
        "        v2 = Vector([3, -1], color=RED)\n",
        "\n",
        "        self.play(Create(v1))\n",
        "        self.play(Create(v2))"
      ]
    },
    {
      "cell_type": "markdown",
      "metadata": {
        "id": "SdYj8NSiGiGr"
      },
      "source": [
        "Note that here we are still using the `Create` method to add the vectors to the scene. Actually, under `VectorScene`, we have a better method that can make the vectors 'grow' from the origin, the `add_vector` method."
      ]
    },
    {
      "cell_type": "code",
      "execution_count": null,
      "metadata": {
        "id": "R6aB2k45GiGr"
      },
      "outputs": [],
      "source": [
        "%%manim -qm Vectors\n",
        "\n",
        "class Vectors(VectorScene):\n",
        "    def construct(self):\n",
        "        self.add_plane(animate = True).add_coordinates()\n",
        "        self.wait()\n",
        "\n",
        "        v1 = Vector([1, 2], color=YELLOW)\n",
        "        v2 = Vector([3, -1], color=RED)\n",
        "\n",
        "        self.add_vector(v1)\n",
        "        self.add_vector(v2)"
      ]
    },
    {
      "cell_type": "markdown",
      "metadata": {
        "id": "FcDoDKOAGiGs"
      },
      "source": [
        "### 2.2.3 Labeling Vectors\n",
        "\n",
        "Although we assign them different colors, it is always better to give them labels to identify them. There are two ways that we can give labels to the vectors.\n",
        "1. Creating new `MathTex` Mobjects, and place them next to the vectors.\n",
        "2. Using the `label_vector` method.\n",
        "Note that both methods are useful under specific circumstances, we first take a look at the second method.\n",
        "\n",
        "The greatest advantage of the `label_vector` method is its simplicity. You only have to indicate which vector you would like to label, then name the label."
      ]
    },
    {
      "cell_type": "code",
      "execution_count": null,
      "metadata": {
        "id": "uuKzDnCnGiGs"
      },
      "outputs": [],
      "source": [
        "%%manim -qm Vectors\n",
        "\n",
        "class Vectors(VectorScene):\n",
        "    def construct(self):\n",
        "        self.add_plane(animate = True).add_coordinates()\n",
        "        self.wait()\n",
        "\n",
        "        v1 = Vector([1, 2], color=YELLOW)\n",
        "        v2 = Vector([3, -1], color=RED)\n",
        "\n",
        "        self.add_vector(v1)\n",
        "        self.add_vector(v2)\n",
        "        self.wait()\n",
        "        self.label_vector(v1, '\\\\vec{v_1}')\n",
        "        self.label_vector(v2, '\\\\vec{v_2}')\n",
        "        self.wait()"
      ]
    },
    {
      "cell_type": "markdown",
      "metadata": {
        "id": "H4GlypwcGiGs"
      },
      "source": [
        "But simplicity means low operability. The biggest drawback of this method is that if we translate the vector, the label will not follow the vector, but stay at the original position."
      ]
    },
    {
      "cell_type": "code",
      "execution_count": null,
      "metadata": {
        "id": "tJHJSpMyGiGs"
      },
      "outputs": [],
      "source": [
        "%%manim -qm Vectors\n",
        "\n",
        "class Vectors(VectorScene):\n",
        "    def construct(self):\n",
        "        self.add_plane(animate = True).add_coordinates()\n",
        "        self.wait()\n",
        "\n",
        "        v1 = Vector([1, 2], color=YELLOW)\n",
        "        self.add_vector(v1)\n",
        "        self.wait()\n",
        "\n",
        "        self.label_vector(v1, '\\\\vec{v_1}')\n",
        "        self.wait()\n",
        "\n",
        "        self.play(v1.animate.shift(2*RIGHT + 1*UP))\n",
        "        self.wait()"
      ]
    },
    {
      "cell_type": "markdown",
      "metadata": {
        "id": "2pYiFDUcGiGt"
      },
      "source": [
        "Here we used `animate.shift` method to translate v1. We have to indicate the moving direction of v1 in the argument bracket.\n",
        "\n",
        "In some circumstances (like right now), it is not what we expected, hence we need to use the first method, that is, defining the labels seperately and create them on the scene."
      ]
    },
    {
      "cell_type": "code",
      "execution_count": null,
      "metadata": {
        "id": "J_8Jxo63GiGt"
      },
      "outputs": [],
      "source": [
        "%%manim -qm Vectors\n",
        "\n",
        "class Vectors(VectorScene):\n",
        "    def construct(self):\n",
        "        self.add_plane(animate = True).add_coordinates()\n",
        "        self.wait()\n",
        "\n",
        "        v1 = Vector([1, 2], color=YELLOW)\n",
        "        v1_label = MathTex(\"\\\\vec{v_1}\").next_to(v1, LEFT, buff = 0.0001)\n",
        "\n",
        "        self.add_vector(v1)\n",
        "        self.play(Create(v1_label))\n",
        "        self.wait()\n"
      ]
    },
    {
      "cell_type": "markdown",
      "metadata": {
        "id": "kkWQ64IZGiGt"
      },
      "source": [
        "Here we defined a `MathTex` Mobject called v1_label, and placed it next to the vector on the left. Note that the `buff` argument is used to control the distance between the label and the object.\n",
        "\n",
        "It is not that now the label will automatically follow the vector's movement, but we can make it do the same movement with the vector by recalling the `VGroup` we learnt in the previous chapter."
      ]
    },
    {
      "cell_type": "code",
      "execution_count": null,
      "metadata": {
        "id": "5pkjOGBTGiGt"
      },
      "outputs": [],
      "source": [
        "%%manim -qm Vectors\n",
        "\n",
        "class Vectors(VectorScene):\n",
        "    def construct(self):\n",
        "        self.add_plane(animate = True).add_coordinates()\n",
        "        self.wait()\n",
        "\n",
        "        v1 = Vector([1, 2], color=YELLOW)\n",
        "        v1_label = MathTex(\"\\\\vec{v_1}\").next_to(v1, LEFT, buff = 0.0001)\n",
        "        gr = VGroup(v1, v1_label)\n",
        "\n",
        "        self.add_vector(v1)\n",
        "        self.play(Create(v1_label))\n",
        "        self.wait()\n",
        "\n",
        "        self.play(\n",
        "          gr.animate.shift(2*RIGHT + 1*UP),\n",
        "        )\n",
        "        self.wait()"
      ]
    },
    {
      "cell_type": "markdown",
      "metadata": {
        "id": "fCosihI6GiGt"
      },
      "source": [
        "The key point here is that we include two animations within a `self.play()` command, where we moved the vector and its label to the same direction, and at the same time.\n",
        "\n",
        "### 2.2.4 `get_vector` Method\n",
        "Sometimes we may want to get the current coordinate of a vector, then we need the `get_vector` method. This will return a `tuple` of the coordinate of the vector. For instance, in the following example, we will use this method to create a new vector by adding up the other two."
      ]
    },
    {
      "cell_type": "code",
      "execution_count": null,
      "metadata": {
        "id": "BihKWBEnGiGu"
      },
      "outputs": [],
      "source": [
        "%%manim -qm Vectors\n",
        "\n",
        "class Vectors(VectorScene):\n",
        "    def construct(self):\n",
        "        self.add_plane(animate = True).add_coordinates()\n",
        "        self.wait()\n",
        "\n",
        "        v1 = Vector([1, 2], color=YELLOW)\n",
        "        v2 = Vector([3, -1], color=RED)\n",
        "        v3 = Vector([v1.get_vector()[0] + v2.get_vector()[0], v1.get_vector()[1] + v2.get_vector()[1]], color=BLUE)\n",
        "\n",
        "        self.add_vector(v1)\n",
        "        self.label_vector(v1, '\\\\vec{v_1}')\n",
        "        self.add_vector(v2)\n",
        "        self.label_vector(v2, '\\\\vec{v_2}')\n",
        "        self.wait()\n",
        "        self.add_vector(v3)\n",
        "        self.wait()\n",
        "        self.label_vector(v3, '\\\\vec{v_1} + \\\\vec{v_2}')\n",
        "        self.wait()"
      ]
    },
    {
      "cell_type": "markdown",
      "metadata": {
        "id": "ta_p1RhuGiGu"
      },
      "source": [
        "Since the `get_vector` method returns a tuple (index started from 0), then, as an example, the x-coordinate of v1 should be `v1.get_vector()[0]`, and the y-coordinate of v1 is `v1.get_vector()[1]`. The coordinates of v2 are returned in the similar way. We hence get v3 = v1 + v2, by adding up their x and y-coordinates."
      ]
    },
    {
      "cell_type": "markdown",
      "metadata": {
        "id": "Pv-vU0HyGiGu"
      },
      "source": [
        "### 2.2.5 Vector Addition Animation (Try Yourself!)\n",
        "\n",
        "\n",
        "The effect of the animation above may not be easily understandable to beginners, as we all know that we were taught vector addition using `triangle rule` or `parallelogram rule`. With the techniques we learnt above, it is natural to think of create an animation of `vector addition`. Before we dig into the codes, it is always good to make a strategy. Our plan will be as follows:\n",
        "1. Defining three vectors, where v3 is the resultant vector of v1+v2.\n",
        "2. Creating v1 and v2 on the scene, and labeling them with $\\vec{v_1}$ and $\\vec{v_2}$.\n",
        "3. Translating v1 so that its tail touches with v2's head.\n",
        "4. Creating the resulting vector v3, and labeling it with $\\vec{v_1} + \\vec{v_2}$.\n",
        "\n",
        "It will be boring if we simply showing you the code, since it is a good chance for you to test whether you have handled all the skills you learnt, which include:\n",
        "1. Defining vectors.\n",
        "2. Labelling vectors by defining a separate `MathTex` Mobject.\n",
        "3. Translating vectors using `animate.shift`, and moving the labels with the vectors.\n",
        "4. Getting the coordinates of the vectors using `get_vector`.\n",
        "\n",
        "The overall structure of the code is given below, we left several blocks for you to fill in. Please try yourselves to complete this 2D-animation on your own!"
      ]
    },
    {
      "cell_type": "code",
      "execution_count": null,
      "metadata": {
        "id": "Bb49JNWcGiGu"
      },
      "outputs": [],
      "source": [
        "%%manim -qm Vectors\n",
        "\n",
        "class Vectors(VectorScene):\n",
        "    def construct(self):\n",
        "        self.add_plane(animate = True).add_coordinates()\n",
        "        self.wait()\n",
        "\n",
        "        v1 = Vector([1, 2], color=YELLOW)\n",
        "        v2 = Vector([3, -1], color=RED)\n",
        "        # Block 1\n",
        "        v3 = Vector() # Hint: recall how we defined v3 in the example introducing get_vector\n",
        "\n",
        "        # Block 2~4\n",
        "        v1_label = MathTex(\"\\\\vec{v_1}\").next_to()\n",
        "        v2_label = MathTex(\"\\\\vec{v_2}\").next_to()\n",
        "        v3_label = MathTex(\"\\\\vec{v_1} + \\\\vec{v_2}\").next_to()\n",
        "        # make the labels next to their vectors, and give appropriate colors and buffs to them\n",
        "\n",
        "        self.add_vector(v1)\n",
        "        self.play(Create(v1_label))\n",
        "        self.wait()\n",
        "\n",
        "        self.add_vector(v2)\n",
        "        self.play(Create(v2_label))\n",
        "        self.wait()\n",
        "\n",
        "        # Block 5~6\n",
        "        self.play(\n",
        "          v1.animate.shift( ),\n",
        "          v1_label.animate.shift( )\n",
        "        )\n",
        "        # Hint: following the triangle rule, if we want to connect v1's tail with v2's head,\n",
        "        # we are actually translating v1's tail to v2's head's coordinate\n",
        "        # x-coordinate -> RIGHT, y-coordinate -> UP\n",
        "        self.wait()\n",
        "\n",
        "        self.add_vector(v3)\n",
        "        self.wait()\n",
        "        self.play(Create(v3_label))\n",
        "        self.wait()"
      ]
    },
    {
      "cell_type": "markdown",
      "metadata": {
        "id": "lcI-9mhdGiGv"
      },
      "source": [
        "## 2.3 Function Graphs\n",
        "### 2.3.1 Axes\n",
        "Function graphs are another popular topic in 2D animations. In this 2D scene, two main elements matter:\n",
        "1. The function's expression,\n",
        "2. The axes.\n",
        "Though we have already learnt how to draw a coordinate system to the scene using `add_plane().add_coordinate()`, this time we have to define it separately. The reason behind this is that when we try to draw function graphs, we have to draw it on the axes.\n",
        "\n",
        "We use `lambda` to define the function expression (recall what we have learnt in section 2.1). Then we need to define the axes, which is done by the `Axes` class. Note that `Axes` class includes lots of arguments, but currently we only need to pay attention to a couple of them, like the ranges, and the configurations of the axes."
      ]
    },
    {
      "cell_type": "code",
      "execution_count": null,
      "metadata": {
        "id": "_JPaG47DGiGv"
      },
      "outputs": [],
      "source": [
        "%%manim -qm functiongraph\n",
        "\n",
        "class functiongraph(Scene):\n",
        "    def construct(self):\n",
        "        # Create axes\n",
        "        axes = Axes(\n",
        "            x_range=[-3,3,1],\n",
        "            y_range=[-2, 2, 1],\n",
        "            axis_config={\"color\": BLUE},\n",
        "            x_axis_config={\n",
        "                \"numbers_to_include\": [-3,-2,-1,0,1,2,3],\n",
        "            },\n",
        "            y_axis_config={\n",
        "                \"numbers_to_include\": [-2, -1, 0, 1, 2],\n",
        "            }\n",
        "        )\n",
        "        axes_labels = axes.get_axis_labels()\n",
        "\n",
        "        self.play(Create(axes), Write(axes_labels))\n",
        "        self.wait()"
      ]
    },
    {
      "cell_type": "markdown",
      "metadata": {
        "id": "NuSe3ECkGiGv"
      },
      "source": [
        "We will go through these arguments one by one.\n",
        "1. `x_range` and `y_range`: [minimum, maximum, step size]\n",
        "2. `axis_config`: \"color\": indicate color\n",
        "3. `x_axis_config` and `y_axis_config`: \"numbers_to_include\": [numbers you want to label on the axis in ascending order]\n",
        "4. `axes_labels = axes.get_axis_labels`: label x-axis as 'x' and y-axis as 'y'.\n",
        "\n",
        "### 2.3.2 Plotting Function Graphs and `Numpy`\n",
        "Now we are ready to plot functions to the axes. The strategy is:\n",
        "1. Define the function expression using `lamba`,\n",
        "2. Define another variable (eg. `graph`) to store the function graph by using the `axes.plot()` method,\n",
        "3. Finally, use `Create` method to draw the function graph.\n",
        "\n",
        "Note that we may want to label the expression of the function graph, the method exactly same as labeling the vectors. You can review the method 1 in section 2.2.3. The following is an example of draw a function graph with its label."
      ]
    },
    {
      "cell_type": "code",
      "execution_count": null,
      "metadata": {
        "id": "kGBHrGCtGiGv"
      },
      "outputs": [],
      "source": [
        "%%manim -qm functiongraph\n",
        "\n",
        "class functiongraph(Scene):\n",
        "    def construct(self):\n",
        "        func = lambda x: x**2 -1\n",
        "        func_label = MathTex(\"f(x) = x^2 - 1\")\n",
        "        # Create axes\n",
        "        axes = Axes(\n",
        "            x_range=[-3,3,1],\n",
        "            y_range=[-2, 2, 1],\n",
        "            axis_config={\"color\": BLUE},\n",
        "            x_axis_config={\n",
        "                \"numbers_to_include\": [-3,-2,-1,0,1,2,3],\n",
        "            },\n",
        "            y_axis_config={\n",
        "                \"numbers_to_include\": [-2, -1, 0, 1, 2],\n",
        "            }\n",
        "        )\n",
        "        axes_labels = axes.get_axis_labels()\n",
        "\n",
        "        # Define the function graph by plotting the function on the axes\n",
        "        graph = axes.plot(func)\n",
        "\n",
        "        func_label.shift(DOWN*2 + LEFT*2)\n",
        "        # Draw the axes and function\n",
        "        self.play(Create(axes), Write(axes_labels))\n",
        "        self.play(Create(graph), Write(func_label), run_time=3)\n",
        "        self.wait()"
      ]
    },
    {
      "cell_type": "markdown",
      "metadata": {
        "id": "eYYJiimAGiGw"
      },
      "source": [
        "It is clear that we can change the function graphs to illustrate the process of function transformation. For instance, when we apply absolute value to variable x and to the function f(x), the function graph will reflect differently. Note that in pyhton, the taking absolute value command is `abs()`.\n",
        "\n",
        "To transform a Mobject to another, we can use the `Transform()` method, which is used in the following form,\n",
        "```py\n",
        "Transform(Mobject, Target Mobject)\n",
        "```\n",
        "where the `Mobject` will be replaced by the `Target Mobject`."
      ]
    },
    {
      "cell_type": "code",
      "execution_count": null,
      "metadata": {
        "id": "6nMgnCmvGiGw"
      },
      "outputs": [],
      "source": [
        "%%manim -qm functiongraph\n",
        "\n",
        "class functiongraph(Scene):\n",
        "    def construct(self):\n",
        "        func1 = lambda x: x**2 - 1\n",
        "        func2 = lambda x: abs(x**2 - 1)\n",
        "        func1_label = MathTex(\"f(x) = x^2 - 1\")\n",
        "        func2_label = MathTex(\"f(x) = |x^2 - 1|\")\n",
        "\n",
        "        axes = Axes(\n",
        "            x_range=[-3,3,1],\n",
        "            y_range=[-2, 2, 1],\n",
        "            axis_config={\"color\": BLUE},\n",
        "            x_axis_config={\n",
        "                \"numbers_to_include\": [-3,-2,-1,0,1,2,3],\n",
        "            },\n",
        "            y_axis_config={\n",
        "                \"numbers_to_include\": [-2, -1, 0, 1, 2],\n",
        "            }\n",
        "        )\n",
        "        axes_labels = axes.get_axis_labels()\n",
        "\n",
        "        graph1 = axes.plot(func1)\n",
        "        graph2 = axes.plot(func2)\n",
        "\n",
        "        # Locate both labels at the same position\n",
        "        func1_label.shift(DOWN*2 + LEFT*2)\n",
        "        func2_label.shift(DOWN*2 + LEFT*2)\n",
        "\n",
        "        self.play(Create(axes), Write(axes_labels))\n",
        "        self.play(Create(graph1), Write(func1_label), run_time=3)\n",
        "        self.wait()\n",
        "        #Transform the graphs and labels\n",
        "        self.play(Transform(graph1, graph2), Transform(func1_label, func2_label))\n",
        "        self.wait()"
      ]
    },
    {
      "cell_type": "markdown",
      "metadata": {
        "id": "RZEATkfHGiGx"
      },
      "source": [
        "Let us go a bit further. Don't you think the label transformation is a bit too ... ordinary? Recall what we have learnt in Chap1, about the `TransformByGlyphMap()` method. It is extremely suitable for our function transformation scene. Remember we have to import the package before we use the method."
      ]
    },
    {
      "cell_type": "code",
      "source": [
        "# Download GlyphMapDemo package\n",
        "!pip install -U git+https://github.com/chuanyewest/Manim/blob/main/GlyphMapDemo.py"
      ],
      "metadata": {
        "id": "hN_JhHGsj2kh"
      },
      "execution_count": null,
      "outputs": []
    },
    {
      "cell_type": "code",
      "execution_count": null,
      "metadata": {
        "id": "-1ROsxWiGiGx"
      },
      "outputs": [],
      "source": [
        "from GlyphMapDemo import *"
      ]
    },
    {
      "cell_type": "markdown",
      "metadata": {
        "id": "f_pbdX1yGiGx"
      },
      "source": [
        "Now we can change the transformation method of the function labels."
      ]
    },
    {
      "cell_type": "code",
      "execution_count": null,
      "metadata": {
        "id": "DnS7p0IgGiGy"
      },
      "outputs": [],
      "source": [
        "%%manim -qm functiongraph\n",
        "\n",
        "class functiongraph(Scene):\n",
        "    def construct(self):\n",
        "        func1 = lambda x: x**2 - 1\n",
        "        func2 = lambda x: abs(x**2 - 1)\n",
        "        func1_label = MathTex(\"f(x) = x^2 - 1\")\n",
        "        func2_label = MathTex(\"f(x) = |x^2 - 1|\")\n",
        "\n",
        "        axes = Axes(\n",
        "            x_range=[-3,3,1],\n",
        "            y_range=[-2, 2, 1],\n",
        "            axis_config={\"color\": BLUE},\n",
        "            x_axis_config={\n",
        "                \"numbers_to_include\": [-3,-2,-1,0,1,2,3],\n",
        "            },\n",
        "            y_axis_config={\n",
        "                \"numbers_to_include\": [-2, -1, 0, 1, 2],\n",
        "            }\n",
        "        )\n",
        "        axes_labels = axes.get_axis_labels()\n",
        "\n",
        "        graph1 = axes.plot(func1)\n",
        "        graph2 = axes.plot(func2)\n",
        "\n",
        "        func1_label.shift(DOWN*2 + LEFT*2)\n",
        "        func2_label.shift(DOWN*2 + LEFT*2)\n",
        "\n",
        "        self.play(Create(axes), Write(axes_labels))\n",
        "        self.play(Create(graph1), Write(func1_label), run_time=3)\n",
        "        self.wait()\n",
        "\n",
        "        self.play(\n",
        "            Transform(graph1, graph2),\n",
        "            TransformByGlyphMap(func1_label, func2_label,\n",
        "                ([],[5,10]),\n",
        "            )\n",
        "            )\n",
        "        self.wait()"
      ]
    },
    {
      "cell_type": "markdown",
      "metadata": {
        "id": "XGWjuZ--GiHA"
      },
      "source": [
        " Exercise: Take some time to review what we have learnt in this section and in Chap1, and fill in the blanks in the following code. The skeleton is given to you.\n",
        "\n",
        "The goal is to create an animation that illustrates the transformation process of function $x^2 - 2x + 1$ by applying absolute value on $x$."
      ]
    },
    {
      "cell_type": "code",
      "execution_count": null,
      "metadata": {
        "id": "XjyyfHMVGiHB"
      },
      "outputs": [],
      "source": [
        "%%manim -qm functiongraph\n",
        "\n",
        "class functiongraph(Scene):\n",
        "    def construct(self):\n",
        "        func1 = lambda x: # Blank1\n",
        "        func2 = lambda x: # Blank2\n",
        "        func1_label = MathTex(\"f(x) = x^2 - 2x + 1\")\n",
        "        func2_label = MathTex(\"f(x) = |x|^2 - 2|x| + 1\")\n",
        "\n",
        "        axes = Axes(\n",
        "            x_range=[-3, 3, 1],\n",
        "            y_range=[-2, 2, 1],\n",
        "            axis_config={\"color\": BLUE},\n",
        "            x_axis_config={\n",
        "                \"numbers_to_include\": [-3,-2,-1,0,1,2,3],\n",
        "            },\n",
        "            y_axis_config={\n",
        "                \"numbers_to_include\": [-2, -1, 0, 1, 2],\n",
        "            }\n",
        "        )\n",
        "        axes_labels = axes.get_axis_labels()\n",
        "\n",
        "        graph1 = # Blank3\n",
        "        graph2 = # Blank4\n",
        "\n",
        "        func1_label.shift(DOWN*2 + RIGHT*3)\n",
        "        func2_label.shift(DOWN*2 + RIGHT*3)\n",
        "\n",
        "        self.play(Create(axes), Write(axes_labels))\n",
        "        self.play(Create(graph1), Write(func1_label), run_time=3)\n",
        "        self.wait()\n",
        "\n",
        "        self.play(\n",
        "            Transform(graph1, graph2),\n",
        "            TransformByGlyphMap(func1_label, func2_label,\n",
        "                ([],[]), # Blank5\n",
        "            )\n",
        "            )\n",
        "        self.wait()"
      ]
    },
    {
      "cell_type": "markdown",
      "metadata": {
        "id": "uycdjQFlGiHC"
      },
      "source": [
        "Note that if you want to set some special functions (eg. trignometric functions), normally you need to import the `numpy` module to quote these functions by running the following code."
      ]
    },
    {
      "cell_type": "code",
      "execution_count": null,
      "metadata": {
        "id": "5cMu22aBGiHC"
      },
      "outputs": [],
      "source": [
        "import numpy as np"
      ]
    },
    {
      "cell_type": "markdown",
      "metadata": {
        "id": "rCo_zoKWGiHC"
      },
      "source": [
        "But luckily, manim has already include this module within the library, so it is not necessary to import it again. The format of calling the `numpy` module is\n",
        "```\n",
        "np.argument\n",
        "```\n",
        "For example, calling $sin$ function is\n",
        "```py\n",
        "np.sin(x)\n",
        "```\n",
        "ans calling $\\pi$ is\n",
        "```py\n",
        "np.pi\n",
        "```\n",
        "The following example shows how to plot a sine wave. Note that when dealing with trignometric functions, don't forget to change the labels on the axes."
      ]
    },
    {
      "cell_type": "code",
      "execution_count": null,
      "metadata": {
        "id": "5a5ItVyRGiHC"
      },
      "outputs": [],
      "source": [
        "%%manim -qm functiongraph\n",
        "\n",
        "class functiongraph(Scene):\n",
        "    def construct(self):\n",
        "        func = lambda x: np.sin(x)\n",
        "        func_label = MathTex(\"f(x) = \\\\sin{x}\")\n",
        "        # Create axes\n",
        "        axes = Axes(\n",
        "            x_range=[-np.pi,3 * np.pi, np.pi / 2],\n",
        "            y_range=[-2, 2, 1], # Though sin(x) only takes value in [-1,1], it is better to leave some room for the labels.\n",
        "            axis_config={\"color\": BLUE},\n",
        "            y_axis_config={\n",
        "                \"numbers_to_include\": [-1, 0, 1],\n",
        "            }\n",
        "        )\n",
        "        axes_labels = axes.get_axis_labels()\n",
        "\n",
        "        # Remark: it seems that manim does not support including MathTex objects on the axes,\n",
        "        # if we want to label pi, we have to create them seperately as follows.\n",
        "        pos1 = axes.x_axis.n2p(-1*PI)\n",
        "        line1 = Line(.1*DOWN,.1*UP).move_to(pos1)\n",
        "        lbl1 = MathTex(\"-\\\\pi\").scale(0.7).next_to(line1, DOWN)\n",
        "        axes.add(line1, lbl1)\n",
        "\n",
        "        pos2 = axes.x_axis.n2p(0)\n",
        "        line2 = Line(.1*DOWN,.1*UP).move_to(pos2)\n",
        "        lbl2 = MathTex(\"0\").scale(0.7).next_to(line2, DOWN)\n",
        "        axes.add(line2, lbl2)\n",
        "\n",
        "        pos3 = axes.x_axis.n2p(PI)\n",
        "        line3 = Line(.1*DOWN,.1*UP).move_to(pos3)\n",
        "        lbl3 = MathTex(\"\\\\pi\").scale(0.7).next_to(line3, DOWN)\n",
        "        axes.add(line3, lbl3)\n",
        "\n",
        "        for i in range(2, 5):\n",
        "            tick_pos = axes.x_axis.n2p(i * PI)\n",
        "            tick_line = Line(.1*DOWN, .1*UP).move_to(tick_pos)\n",
        "            lbl = MathTex(str(i) + r\"\\pi\").scale(0.7).next_to(tick_line, DOWN)\n",
        "            axes.add(tick_line, lbl)\n",
        "\n",
        "        graph = axes.plot(func)\n",
        "        func_label.to_edge(UP)\n",
        "        self.play(Create(axes), Write(axes_labels))\n",
        "        self.play(Create(graph), Write(func_label), run_time=3)\n",
        "        self.wait()"
      ]
    },
    {
      "cell_type": "markdown",
      "source": [
        "## Exercise Solutions"
      ],
      "metadata": {
        "id": "OKtLnH0hHP9f"
      }
    },
    {
      "cell_type": "markdown",
      "source": [
        "### Exercise 1"
      ],
      "metadata": {
        "id": "HHWvTcsZHTB1"
      }
    },
    {
      "cell_type": "code",
      "source": [
        "%%manim -qm Vectors\n",
        "\n",
        "class Vectors(VectorScene):\n",
        "    def construct(self):\n",
        "        self.add_plane(animate = True).add_coordinates()\n",
        "        self.wait()\n",
        "\n",
        "        v1 = Vector([1, 2], color=YELLOW)\n",
        "        v2 = Vector([3, -1], color=RED)\n",
        "        v3 = Vector([v1.get_vector()[0] + v2.get_vector()[0], v1.get_vector()[1] + v2.get_vector()[1]], color=BLUE)\n",
        "\n",
        "        v1_label = MathTex(\"\\\\vec{u}\").next_to(v1, LEFT, buff = 0.0001)\n",
        "        v2_label = MathTex(\"\\\\vec{v}\").next_to(v2, DOWN, buff = 0.0001)\n",
        "        v3_label = MathTex(\"\\\\vec{u} + \\\\vec{v}\").next_to(v3, UP, buff = 0.0001)\n",
        "\n",
        "        self.add_vector(v1)\n",
        "        self.play(Create(v1_label))\n",
        "        self.wait()\n",
        "\n",
        "        self.add_vector(v2)\n",
        "        self.play(Create(v2_label))\n",
        "        self.wait()\n",
        "\n",
        "        self.play(\n",
        "          v1.animate.shift(v2.get_vector()[0]*RIGHT + v2.get_vector()[1]*UP),\n",
        "          v1_label.animate.shift(v2.gset_vector()[0]*RIGHT + v2.get_vector()[1]*UP)\n",
        "        )\n",
        "        self.wait()\n",
        "\n",
        "        self.add_vector(v3)\n",
        "        self.wait()\n",
        "        self.play(Create(v3_label))\n",
        "        self.wait()"
      ],
      "metadata": {
        "id": "FnnL4GV6HX4l"
      },
      "execution_count": null,
      "outputs": []
    },
    {
      "cell_type": "markdown",
      "source": [
        "### Exercise 2"
      ],
      "metadata": {
        "id": "NgxBV2M5HUsM"
      }
    },
    {
      "cell_type": "code",
      "source": [
        "from GlyphMapDemo import *"
      ],
      "metadata": {
        "id": "Izb-9YIjHawE"
      },
      "execution_count": null,
      "outputs": []
    },
    {
      "cell_type": "code",
      "source": [
        "%%manim -qm functiongraph\n",
        "\n",
        "class functiongraph(Scene):\n",
        "    def construct(self):\n",
        "\n",
        "        func1 = lambda x: x**2 - 2*x + 1\n",
        "        func2 = lambda x: abs(x)**2 - 2*abs(x) + 1\n",
        "        func1_label = MathTex(\"f(x) = x^2 - 2x + 1\")\n",
        "        func2_label = MathTex(\"f(x) = |x|^2 - 2|x| + 1\")\n",
        "\n",
        "        axes = Axes(\n",
        "            x_range=[-3,3,1],\n",
        "            y_range=[-2, 2, 1],\n",
        "            axis_config={\"color\": BLUE},\n",
        "            x_axis_config={\n",
        "                \"numbers_to_include\": [-3,-2,-1,0,1,2,3],\n",
        "            },\n",
        "            y_axis_config={\n",
        "                \"numbers_to_include\": [-2, -1, 0, 1, 2],\n",
        "            }\n",
        "        )\n",
        "        axes_labels = axes.get_axis_labels()\n",
        "\n",
        "        graph1 = axes.plot(func1)\n",
        "        graph2 = axes.plot(func2)\n",
        "\n",
        "        func1_label.shift(DOWN*2 + RIGHT*3)\n",
        "        func2_label.shift(DOWN*2 + RIGHT*3)\n",
        "\n",
        "        self.play(Create(axes), Write(axes_labels))\n",
        "        self.play(Create(graph1), Write(func1_label), run_time=3)\n",
        "        self.wait()\n",
        "\n",
        "        self.play(\n",
        "            Transform(graph1, graph2),\n",
        "            TransformByGlyphMap(func1_label, func2_label,\n",
        "                ([],[5,7,11,13]),\n",
        "            )\n",
        "            )\n",
        "        self.wait()"
      ],
      "metadata": {
        "id": "6TCqPx4oHb82"
      },
      "execution_count": null,
      "outputs": []
    }
  ],
  "metadata": {
    "kernelspec": {
      "display_name": "base",
      "language": "python",
      "name": "python3"
    },
    "language_info": {
      "codemirror_mode": {
        "name": "ipython",
        "version": 3
      },
      "file_extension": ".py",
      "mimetype": "text/x-python",
      "name": "python",
      "nbconvert_exporter": "python",
      "pygments_lexer": "ipython3",
      "version": "3.9.13"
    },
    "colab": {
      "provenance": [],
      "toc_visible": true,
      "include_colab_link": true
    }
  },
  "nbformat": 4,
  "nbformat_minor": 0
}